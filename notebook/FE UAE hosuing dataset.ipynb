{
 "cells": [
  {
   "cell_type": "code",
   "execution_count": 47,
   "id": "fa8e8c09-068f-41a4-bc9e-9aa3a0e9b429",
   "metadata": {},
   "outputs": [],
   "source": [
    "#importing necessay libs\n",
    "import pandas as pd\n",
    "import numpy as np \n",
    "import warnings\n",
    "\n",
    "warnings.filterwarnings(\"ignore\")"
   ]
  },
  {
   "cell_type": "code",
   "execution_count": 48,
   "id": "4e17c7ad-13a5-4692-adfd-3a5043cb1ba4",
   "metadata": {},
   "outputs": [
    {
     "data": {
      "text/html": [
       "<div>\n",
       "<style scoped>\n",
       "    .dataframe tbody tr th:only-of-type {\n",
       "        vertical-align: middle;\n",
       "    }\n",
       "\n",
       "    .dataframe tbody tr th {\n",
       "        vertical-align: top;\n",
       "    }\n",
       "\n",
       "    .dataframe thead th {\n",
       "        text-align: right;\n",
       "    }\n",
       "</style>\n",
       "<table border=\"1\" class=\"dataframe\">\n",
       "  <thead>\n",
       "    <tr style=\"text-align: right;\">\n",
       "      <th></th>\n",
       "      <th>price</th>\n",
       "      <th>bedroom</th>\n",
       "      <th>bathroom</th>\n",
       "      <th>area(sqft)</th>\n",
       "      <th>country</th>\n",
       "      <th>city</th>\n",
       "      <th>address</th>\n",
       "      <th>propert_type</th>\n",
       "      <th>purpose</th>\n",
       "      <th>furnishing</th>\n",
       "      <th>completion_status</th>\n",
       "      <th>handover</th>\n",
       "      <th>project_name</th>\n",
       "    </tr>\n",
       "  </thead>\n",
       "  <tbody>\n",
       "    <tr>\n",
       "      <th>0</th>\n",
       "      <td>1,800,000</td>\n",
       "      <td>3 beds</td>\n",
       "      <td>4 baths</td>\n",
       "      <td>1,208 sqft</td>\n",
       "      <td>UAE</td>\n",
       "      <td>Dubai</td>\n",
       "      <td>DAMAC Hills 2 (Akoya by DAMAC)</td>\n",
       "      <td>Townhouse</td>\n",
       "      <td>Sale</td>\n",
       "      <td>Unfurnished</td>\n",
       "      <td>Off-Plan</td>\n",
       "      <td>Q2 2025</td>\n",
       "      <td>Camelia Villas</td>\n",
       "    </tr>\n",
       "    <tr>\n",
       "      <th>1</th>\n",
       "      <td>325,000</td>\n",
       "      <td>Studio</td>\n",
       "      <td>1 bath</td>\n",
       "      <td>483 sqft</td>\n",
       "      <td>UAE</td>\n",
       "      <td>Dubai</td>\n",
       "      <td>International City</td>\n",
       "      <td>Apartment</td>\n",
       "      <td>Sale</td>\n",
       "      <td>Unfurnished</td>\n",
       "      <td>Ready</td>\n",
       "      <td>Q2 2025</td>\n",
       "      <td>Camelia Villas</td>\n",
       "    </tr>\n",
       "    <tr>\n",
       "      <th>2</th>\n",
       "      <td>470,000</td>\n",
       "      <td>Studio</td>\n",
       "      <td>1 bath</td>\n",
       "      <td>428 sqft</td>\n",
       "      <td>UAE</td>\n",
       "      <td>Dubai</td>\n",
       "      <td>Arjan</td>\n",
       "      <td>Apartment</td>\n",
       "      <td>Sale</td>\n",
       "      <td>Furnished</td>\n",
       "      <td>Ready</td>\n",
       "      <td>Q2 2025</td>\n",
       "      <td>Camelia Villas</td>\n",
       "    </tr>\n",
       "    <tr>\n",
       "      <th>3</th>\n",
       "      <td>1,120,000</td>\n",
       "      <td>1 bed</td>\n",
       "      <td>1 bath</td>\n",
       "      <td>706 sqft</td>\n",
       "      <td>UAE</td>\n",
       "      <td>Dubai</td>\n",
       "      <td>Dubai South</td>\n",
       "      <td>Apartment</td>\n",
       "      <td>Sale</td>\n",
       "      <td>Unfurnished</td>\n",
       "      <td>Off-Plan</td>\n",
       "      <td>Q3 2029</td>\n",
       "      <td>Camelia Villas</td>\n",
       "    </tr>\n",
       "    <tr>\n",
       "      <th>4</th>\n",
       "      <td>2,127,888</td>\n",
       "      <td>2 beds</td>\n",
       "      <td>2 baths</td>\n",
       "      <td>1,149 sqft</td>\n",
       "      <td>UAE</td>\n",
       "      <td>Dubai</td>\n",
       "      <td>Dubai South</td>\n",
       "      <td>Apartment</td>\n",
       "      <td>Sale</td>\n",
       "      <td>Unfurnished</td>\n",
       "      <td>Off-Plan</td>\n",
       "      <td>Q3 2029</td>\n",
       "      <td>Camelia Villas</td>\n",
       "    </tr>\n",
       "  </tbody>\n",
       "</table>\n",
       "</div>"
      ],
      "text/plain": [
       "       price bedroom bathroom  area(sqft) country    city  \\\n",
       "0  1,800,000  3 beds  4 baths  1,208 sqft     UAE   Dubai   \n",
       "1    325,000  Studio   1 bath    483 sqft     UAE   Dubai   \n",
       "2    470,000  Studio   1 bath    428 sqft     UAE   Dubai   \n",
       "3  1,120,000   1 bed   1 bath    706 sqft     UAE   Dubai   \n",
       "4  2,127,888  2 beds  2 baths  1,149 sqft     UAE   Dubai   \n",
       "\n",
       "                           address propert_type purpose   furnishing  \\\n",
       "0   DAMAC Hills 2 (Akoya by DAMAC)    Townhouse    Sale  Unfurnished   \n",
       "1               International City    Apartment    Sale  Unfurnished   \n",
       "2                            Arjan    Apartment    Sale    Furnished   \n",
       "3                      Dubai South    Apartment    Sale  Unfurnished   \n",
       "4                      Dubai South    Apartment    Sale  Unfurnished   \n",
       "\n",
       "  completion_status handover    project_name  \n",
       "0          Off-Plan  Q2 2025  Camelia Villas  \n",
       "1             Ready  Q2 2025  Camelia Villas  \n",
       "2             Ready  Q2 2025  Camelia Villas  \n",
       "3          Off-Plan  Q3 2029  Camelia Villas  \n",
       "4          Off-Plan  Q3 2029  Camelia Villas  "
      ]
     },
     "execution_count": 48,
     "metadata": {},
     "output_type": "execute_result"
    }
   ],
   "source": [
    "#loading Datasets\n",
    "dataframe=pd.read_csv(r\"P:\\webscraper-UAE-housing\\Dataset\\uae-housing_dataset.csv\")\n",
    "dataframe.head()"
   ]
  },
  {
   "cell_type": "code",
   "execution_count": 49,
   "id": "17857a2d-4339-43d9-b44a-4455df92f945",
   "metadata": {},
   "outputs": [
    {
     "name": "stdout",
     "output_type": "stream",
     "text": [
      "<class 'pandas.core.frame.DataFrame'>\n",
      "RangeIndex: 5378 entries, 0 to 5377\n",
      "Data columns (total 13 columns):\n",
      " #   Column             Non-Null Count  Dtype \n",
      "---  ------             --------------  ----- \n",
      " 0   price              5378 non-null   object\n",
      " 1   bedroom            5378 non-null   object\n",
      " 2   bathroom           5378 non-null   object\n",
      " 3   area(sqft)         5378 non-null   object\n",
      " 4   country            5378 non-null   object\n",
      " 5   city               5378 non-null   object\n",
      " 6   address            5378 non-null   object\n",
      " 7   propert_type       5378 non-null   object\n",
      " 8   purpose            5378 non-null   object\n",
      " 9   furnishing         5378 non-null   object\n",
      " 10  completion_status  5378 non-null   object\n",
      " 11  handover           5378 non-null   object\n",
      " 12  project_name       5378 non-null   object\n",
      "dtypes: object(13)\n",
      "memory usage: 546.3+ KB\n"
     ]
    }
   ],
   "source": [
    "dataframe.info()"
   ]
  },
  {
   "cell_type": "code",
   "execution_count": 50,
   "id": "8f3279a8-94b3-4f8a-bc28-bb0d7aa26686",
   "metadata": {},
   "outputs": [],
   "source": [
    "dataframe=dataframe.drop_duplicates(keep=\"first\",ignore_index=True)"
   ]
  },
  {
   "cell_type": "code",
   "execution_count": 51,
   "id": "fef718b3-ab85-4797-9293-069ab9ff92ce",
   "metadata": {},
   "outputs": [],
   "source": [
    "def clean_bedroom(bedroom:pd.Series):\n",
    "    bedroom=bedroom.apply(lambda x:x.lower())\n",
    "    for i in range(len(dataframe['bedroom'])):\n",
    "        if \"bed\" in bedroom[i]:\n",
    "            bedroom[i]=bedroom[i].split()[0]\n",
    "        elif \"studio\" in bedroom[i]:\n",
    "            bedroom[i]=float(0.5)\n",
    "\n",
    "    return bedroom    "
   ]
  },
  {
   "cell_type": "code",
   "execution_count": 52,
   "id": "9e647b83-982b-4d91-a94b-b15efdeabc41",
   "metadata": {},
   "outputs": [],
   "source": [
    "def quater_to_float(handover_data):\n",
    "    \"\"\"this will convert your handover data into float\"\"\"\n",
    "    q,y=handover_data.split()\n",
    "    q=int(q[1])\n",
    "    return  int(y) + (q-1)*0.25"
   ]
  },
  {
   "cell_type": "code",
   "execution_count": 53,
   "id": "294132e4-e430-40d4-aaa8-89f9170e7b10",
   "metadata": {},
   "outputs": [],
   "source": [
    "dataframe['price']=dataframe['price'].str.replace(\",\",\"\").astype(int)\n",
    "dataframe[\"bedroom\"]=clean_bedroom(dataframe['bedroom']).astype(float)\n",
    "dataframe['bathroom']=(dataframe['bathroom'].str.split().str[0]).astype(int)\n",
    "dataframe['area(sqft)']=(dataframe['area(sqft)'].str.split().str[0]).str.replace(\",\",\"\").astype(float)\n",
    "dataframe['handover']=dataframe['handover'].apply(quater_to_float)"
   ]
  },
  {
   "cell_type": "code",
   "execution_count": 54,
   "id": "0755152e-f5b3-4dfb-bacc-3203345510b2",
   "metadata": {},
   "outputs": [
    {
     "data": {
      "text/html": [
       "<div>\n",
       "<style scoped>\n",
       "    .dataframe tbody tr th:only-of-type {\n",
       "        vertical-align: middle;\n",
       "    }\n",
       "\n",
       "    .dataframe tbody tr th {\n",
       "        vertical-align: top;\n",
       "    }\n",
       "\n",
       "    .dataframe thead th {\n",
       "        text-align: right;\n",
       "    }\n",
       "</style>\n",
       "<table border=\"1\" class=\"dataframe\">\n",
       "  <thead>\n",
       "    <tr style=\"text-align: right;\">\n",
       "      <th></th>\n",
       "      <th>price</th>\n",
       "      <th>bedroom</th>\n",
       "      <th>bathroom</th>\n",
       "      <th>area(sqft)</th>\n",
       "      <th>country</th>\n",
       "      <th>city</th>\n",
       "      <th>address</th>\n",
       "      <th>propert_type</th>\n",
       "      <th>purpose</th>\n",
       "      <th>furnishing</th>\n",
       "      <th>completion_status</th>\n",
       "      <th>handover</th>\n",
       "      <th>project_name</th>\n",
       "    </tr>\n",
       "  </thead>\n",
       "  <tbody>\n",
       "    <tr>\n",
       "      <th>0</th>\n",
       "      <td>1800000</td>\n",
       "      <td>3.0</td>\n",
       "      <td>4</td>\n",
       "      <td>1208.0</td>\n",
       "      <td>UAE</td>\n",
       "      <td>Dubai</td>\n",
       "      <td>DAMAC Hills 2 (Akoya by DAMAC)</td>\n",
       "      <td>Townhouse</td>\n",
       "      <td>Sale</td>\n",
       "      <td>Unfurnished</td>\n",
       "      <td>Off-Plan</td>\n",
       "      <td>2025.25</td>\n",
       "      <td>Camelia Villas</td>\n",
       "    </tr>\n",
       "    <tr>\n",
       "      <th>1</th>\n",
       "      <td>325000</td>\n",
       "      <td>0.5</td>\n",
       "      <td>1</td>\n",
       "      <td>483.0</td>\n",
       "      <td>UAE</td>\n",
       "      <td>Dubai</td>\n",
       "      <td>International City</td>\n",
       "      <td>Apartment</td>\n",
       "      <td>Sale</td>\n",
       "      <td>Unfurnished</td>\n",
       "      <td>Ready</td>\n",
       "      <td>2025.25</td>\n",
       "      <td>Camelia Villas</td>\n",
       "    </tr>\n",
       "    <tr>\n",
       "      <th>2</th>\n",
       "      <td>470000</td>\n",
       "      <td>0.5</td>\n",
       "      <td>1</td>\n",
       "      <td>428.0</td>\n",
       "      <td>UAE</td>\n",
       "      <td>Dubai</td>\n",
       "      <td>Arjan</td>\n",
       "      <td>Apartment</td>\n",
       "      <td>Sale</td>\n",
       "      <td>Furnished</td>\n",
       "      <td>Ready</td>\n",
       "      <td>2025.25</td>\n",
       "      <td>Camelia Villas</td>\n",
       "    </tr>\n",
       "    <tr>\n",
       "      <th>3</th>\n",
       "      <td>1120000</td>\n",
       "      <td>1.0</td>\n",
       "      <td>1</td>\n",
       "      <td>706.0</td>\n",
       "      <td>UAE</td>\n",
       "      <td>Dubai</td>\n",
       "      <td>Dubai South</td>\n",
       "      <td>Apartment</td>\n",
       "      <td>Sale</td>\n",
       "      <td>Unfurnished</td>\n",
       "      <td>Off-Plan</td>\n",
       "      <td>2029.50</td>\n",
       "      <td>Camelia Villas</td>\n",
       "    </tr>\n",
       "    <tr>\n",
       "      <th>4</th>\n",
       "      <td>2127888</td>\n",
       "      <td>2.0</td>\n",
       "      <td>2</td>\n",
       "      <td>1149.0</td>\n",
       "      <td>UAE</td>\n",
       "      <td>Dubai</td>\n",
       "      <td>Dubai South</td>\n",
       "      <td>Apartment</td>\n",
       "      <td>Sale</td>\n",
       "      <td>Unfurnished</td>\n",
       "      <td>Off-Plan</td>\n",
       "      <td>2029.50</td>\n",
       "      <td>Camelia Villas</td>\n",
       "    </tr>\n",
       "  </tbody>\n",
       "</table>\n",
       "</div>"
      ],
      "text/plain": [
       "     price  bedroom  bathroom  area(sqft) country    city  \\\n",
       "0  1800000      3.0         4      1208.0     UAE   Dubai   \n",
       "1   325000      0.5         1       483.0     UAE   Dubai   \n",
       "2   470000      0.5         1       428.0     UAE   Dubai   \n",
       "3  1120000      1.0         1       706.0     UAE   Dubai   \n",
       "4  2127888      2.0         2      1149.0     UAE   Dubai   \n",
       "\n",
       "                           address propert_type purpose   furnishing  \\\n",
       "0   DAMAC Hills 2 (Akoya by DAMAC)    Townhouse    Sale  Unfurnished   \n",
       "1               International City    Apartment    Sale  Unfurnished   \n",
       "2                            Arjan    Apartment    Sale    Furnished   \n",
       "3                      Dubai South    Apartment    Sale  Unfurnished   \n",
       "4                      Dubai South    Apartment    Sale  Unfurnished   \n",
       "\n",
       "  completion_status  handover    project_name  \n",
       "0          Off-Plan   2025.25  Camelia Villas  \n",
       "1             Ready   2025.25  Camelia Villas  \n",
       "2             Ready   2025.25  Camelia Villas  \n",
       "3          Off-Plan   2029.50  Camelia Villas  \n",
       "4          Off-Plan   2029.50  Camelia Villas  "
      ]
     },
     "execution_count": 54,
     "metadata": {},
     "output_type": "execute_result"
    }
   ],
   "source": [
    "dataframe.head()"
   ]
  },
  {
   "cell_type": "code",
   "execution_count": 55,
   "id": "a4ea270e-d90b-4be4-abc4-40b110710397",
   "metadata": {},
   "outputs": [],
   "source": [
    "#cleaing the dataset\n",
    "dataframe=dataframe.drop(columns=[\"country\",\"purpose\",'city'])\n",
    "dataframe=dataframe.drop_duplicates(keep=\"first\")"
   ]
  },
  {
   "cell_type": "code",
   "execution_count": 56,
   "id": "a08a8a7f-9122-4ce2-90d0-7170af1ce3c6",
   "metadata": {},
   "outputs": [],
   "source": [
    "#manual encoding\n",
    "maping_furnishing={'Unfurnished':0,'Furnished':1}\n",
    "maping_completion_status={'Off-Plan':0,'Ready':1}\n",
    "\n",
    "dataframe['furnishing']=dataframe['furnishing'].map(maping_furnishing)\n",
    "dataframe['completion_status']=dataframe['completion_status'].map(maping_completion_status)\n",
    "\n",
    "project_maping=dataframe['project_name'].value_counts()\n",
    "dataframe['project_name']=dataframe['project_name'].map(project_maping)"
   ]
  },
  {
   "cell_type": "code",
   "execution_count": 57,
   "id": "c275c443-4867-4204-be1d-a753fb9a9a2c",
   "metadata": {},
   "outputs": [],
   "source": [
    "y=dataframe[\"price\"]\n",
    "X=dataframe.drop(columns=\"price\")"
   ]
  },
  {
   "cell_type": "code",
   "execution_count": 58,
   "id": "c3e8dc6f-7110-4de0-b67d-813739068b4e",
   "metadata": {},
   "outputs": [],
   "source": [
    "catge=[feature for feature in X.columns if X[feature].dtype ==\"O\"]\n",
    "\n",
    "for feature in catge:\n",
    "    X[feature]=X[feature].apply(lambda x: x.lower())"
   ]
  },
  {
   "cell_type": "code",
   "execution_count": 59,
   "id": "356d19a6-2b52-4035-80be-88ea6037ec04",
   "metadata": {},
   "outputs": [],
   "source": [
    "#log transformation..\n",
    "y=np.log(y+1)\n",
    "X['area(sqft)']=np.log(X['area(sqft)']+1)"
   ]
  },
  {
   "cell_type": "code",
   "execution_count": 60,
   "id": "20b5959f-4e82-4825-b452-d026df291b2b",
   "metadata": {},
   "outputs": [],
   "source": [
    "from sklearn.model_selection import train_test_split\n",
    "\n",
    "#spliting the dataset\n",
    "X_train, X_test, y_train, y_test = train_test_split(\n",
    "    X, y, test_size=0.33, random_state=42)"
   ]
  },
  {
   "cell_type": "code",
   "execution_count": 61,
   "id": "fb39f318-45a9-4567-855e-9bf24741a616",
   "metadata": {},
   "outputs": [],
   "source": [
    "X=X[X['propert_type']!=\"residential building\"]\n",
    "X['propert_type']=X['propert_type'].replace({\"villa compound\":\"villa\"})\n",
    "X=X[X['area(sqft)']!=13149888.0]"
   ]
  },
  {
   "cell_type": "code",
   "execution_count": 62,
   "id": "fe187801-6d50-41b7-8832-215180c59797",
   "metadata": {},
   "outputs": [],
   "source": [
    "X['address']=X['address'].str.replace(\" \",\"\")\n",
    "vc_address=dict(X['address'].value_counts())\n",
    "def rearrange_address(address):\n",
    "    global vc_address\n",
    "\n",
    "    result=vc_address.get(address)\n",
    "    if result <=5:\n",
    "        address =\"others\"\n",
    "    else :\n",
    "        pass\n",
    "    return address\n",
    "\n",
    "X['address']=X['address'].apply(rearrange_address)"
   ]
  },
  {
   "cell_type": "code",
   "execution_count": 63,
   "id": "18cdbc16-d963-477f-aa87-3667f826b6dd",
   "metadata": {},
   "outputs": [],
   "source": [
    "from sklearn.compose import ColumnTransformer\n",
    "from sklearn.preprocessing import MinMaxScaler,OneHotEncoder\n",
    "\n",
    "\n",
    "ct=ColumnTransformer([\n",
    "    (\"OHE\",OneHotEncoder(sparse_output=True,handle_unknown=\"ignore\"),[\"address\",\"propert_type\"]),\n",
    "    (\"minmax_scaler\",MinMaxScaler(feature_range=(0,1)),[\"bedroom\",\"bathroom\",\"handover\",\"project_name\"])\n",
    "],remainder=\"passthrough\")\n",
    "\n",
    "ct.fit(X_train)\n",
    "\n",
    "X_train=ct.transform(X_train)\n",
    "X_test=ct.transform(X_test)\n",
    "\n",
    "X_train=X_train.toarray()\n",
    "X_test=X_test.toarray()\n"
   ]
  },
  {
   "cell_type": "code",
   "execution_count": null,
   "id": "273f5236-72cf-4ffb-9c4b-eb9446b9ff6e",
   "metadata": {},
   "outputs": [],
   "source": []
  },
  {
   "cell_type": "code",
   "execution_count": 64,
   "id": "039c25fb-3a2e-429d-954d-4961904ca717",
   "metadata": {},
   "outputs": [],
   "source": [
    "from sklearn.linear_model import LinearRegression ,Ridge ,Lasso\n",
    "from sklearn.tree import DecisionTreeRegressor\n",
    "\n",
    "models={\n",
    "    \"linear regresson\":LinearRegression(),\n",
    "    \"ridge\":Ridge(),\n",
    "    \"lasso\":Lasso(),\n",
    "    \"decision tree regressor\" : DecisionTreeRegressor()\n",
    "}"
   ]
  },
  {
   "cell_type": "code",
   "execution_count": 65,
   "id": "d717c406-4e1b-4aa7-99fc-57ae85bffeb1",
   "metadata": {},
   "outputs": [],
   "source": [
    "from sklearn.metrics import r2_score,mean_absolute_error,mean_squared_error\n",
    "\n",
    "def test_acc(y_test,y_pred):\n",
    "    r2score=r2_score(y_test,y_pred)\n",
    "    mae=mean_absolute_error(y_test,y_pred)\n",
    "    mse=mean_squared_error(y_test,y_pred)\n",
    "\n",
    "    return r2score,mae,mse"
   ]
  },
  {
   "cell_type": "code",
   "execution_count": 66,
   "id": "7a2f12ac-2afa-4b50-84f9-880b7723fb4b",
   "metadata": {},
   "outputs": [],
   "source": [
    "def model_test(X_train,X_test,y_train,y_test,models):\n",
    "    models_list = []\n",
    "    accuracy_list = []\n",
    "    auc= []\n",
    "    \n",
    "    for i in range(len(list(models))):\n",
    "        model = list(models.values())[i]\n",
    "        model.fit(X_train, y_train) \n",
    "\n",
    "        # Make predictions\n",
    "        y_pred = model.predict(X_test)\n",
    "\n",
    "        r2score,mae,mse=test_acc(y_test,y_pred)\n",
    "        models_list.append(list(models.keys())[i])\n",
    "\n",
    "        accuracy_list.append(r2score)\n",
    "\n",
    "    report=pd.DataFrame(list(zip(models_list, accuracy_list)), columns=['Model Name', 'Accuracy']).sort_values(by=['Accuracy'], ascending=False)\n",
    "\n",
    "    return report"
   ]
  },
  {
   "cell_type": "code",
   "execution_count": 67,
   "id": "23f4b96d-44fa-47bb-a5e9-1a28209d4bab",
   "metadata": {},
   "outputs": [
    {
     "data": {
      "text/html": [
       "<div>\n",
       "<style scoped>\n",
       "    .dataframe tbody tr th:only-of-type {\n",
       "        vertical-align: middle;\n",
       "    }\n",
       "\n",
       "    .dataframe tbody tr th {\n",
       "        vertical-align: top;\n",
       "    }\n",
       "\n",
       "    .dataframe thead th {\n",
       "        text-align: right;\n",
       "    }\n",
       "</style>\n",
       "<table border=\"1\" class=\"dataframe\">\n",
       "  <thead>\n",
       "    <tr style=\"text-align: right;\">\n",
       "      <th></th>\n",
       "      <th>Model Name</th>\n",
       "      <th>Accuracy</th>\n",
       "    </tr>\n",
       "  </thead>\n",
       "  <tbody>\n",
       "    <tr>\n",
       "      <th>1</th>\n",
       "      <td>ridge</td>\n",
       "      <td>8.779871e-01</td>\n",
       "    </tr>\n",
       "    <tr>\n",
       "      <th>3</th>\n",
       "      <td>decision tree regressor</td>\n",
       "      <td>8.570622e-01</td>\n",
       "    </tr>\n",
       "    <tr>\n",
       "      <th>2</th>\n",
       "      <td>lasso</td>\n",
       "      <td>-4.257858e-06</td>\n",
       "    </tr>\n",
       "    <tr>\n",
       "      <th>0</th>\n",
       "      <td>linear regresson</td>\n",
       "      <td>-1.777656e+22</td>\n",
       "    </tr>\n",
       "  </tbody>\n",
       "</table>\n",
       "</div>"
      ],
      "text/plain": [
       "                Model Name      Accuracy\n",
       "1                    ridge  8.779871e-01\n",
       "3  decision tree regressor  8.570622e-01\n",
       "2                    lasso -4.257858e-06\n",
       "0         linear regresson -1.777656e+22"
      ]
     },
     "execution_count": 67,
     "metadata": {},
     "output_type": "execute_result"
    }
   ],
   "source": [
    "model_test(X_train,X_test,y_train,y_test,models)"
   ]
  },
  {
   "cell_type": "code",
   "execution_count": 24,
   "id": "98891553-e3fb-48cb-a8da-ae72c1eec502",
   "metadata": {},
   "outputs": [],
   "source": [
    "import pandas as pd\n",
    "from sklearn.metrics import r2_score, mean_absolute_error, mean_squared_error\n",
    "\n",
    "def test_acc(y_true, y_pred):\n",
    "    return r2_score(y_true, y_pred), mean_absolute_error(y_true, y_pred), mean_squared_error(y_true, y_pred)\n",
    "\n",
    "def model_test(X_train, X_test, y_train, y_test, models):\n",
    "    model_names = []\n",
    "    r2_list = []\n",
    "\n",
    "    for name, model in models.items():\n",
    "        model.fit(X_train, y_train)\n",
    "        y_pred = model.predict(X_test)\n",
    "\n",
    "        r2score, mae, mse = test_acc(y_test, y_pred)\n",
    "        model_names.append(name)\n",
    "        r2_list.append(r2score)\n",
    "\n",
    "    report = pd.DataFrame({\n",
    "        'Model Name': model_names,\n",
    "        'R2 Score': r2_list\n",
    "    }).sort_values(by='R2 Score', ascending=False)\n",
    "\n",
    "    return report\n"
   ]
  },
  {
   "cell_type": "code",
   "execution_count": 25,
   "id": "5788cf49-e7d2-401e-949f-bf25d995d072",
   "metadata": {},
   "outputs": [
    {
     "data": {
      "text/html": [
       "<div>\n",
       "<style scoped>\n",
       "    .dataframe tbody tr th:only-of-type {\n",
       "        vertical-align: middle;\n",
       "    }\n",
       "\n",
       "    .dataframe tbody tr th {\n",
       "        vertical-align: top;\n",
       "    }\n",
       "\n",
       "    .dataframe thead th {\n",
       "        text-align: right;\n",
       "    }\n",
       "</style>\n",
       "<table border=\"1\" class=\"dataframe\">\n",
       "  <thead>\n",
       "    <tr style=\"text-align: right;\">\n",
       "      <th></th>\n",
       "      <th>Model Name</th>\n",
       "      <th>R2 Score</th>\n",
       "    </tr>\n",
       "  </thead>\n",
       "  <tbody>\n",
       "    <tr>\n",
       "      <th>1</th>\n",
       "      <td>ridge</td>\n",
       "      <td>8.779871e-01</td>\n",
       "    </tr>\n",
       "    <tr>\n",
       "      <th>3</th>\n",
       "      <td>decision tree regressor</td>\n",
       "      <td>8.575458e-01</td>\n",
       "    </tr>\n",
       "    <tr>\n",
       "      <th>2</th>\n",
       "      <td>lasso</td>\n",
       "      <td>-4.257858e-06</td>\n",
       "    </tr>\n",
       "    <tr>\n",
       "      <th>0</th>\n",
       "      <td>linear regresson</td>\n",
       "      <td>-1.777656e+22</td>\n",
       "    </tr>\n",
       "  </tbody>\n",
       "</table>\n",
       "</div>"
      ],
      "text/plain": [
       "                Model Name      R2 Score\n",
       "1                    ridge  8.779871e-01\n",
       "3  decision tree regressor  8.575458e-01\n",
       "2                    lasso -4.257858e-06\n",
       "0         linear regresson -1.777656e+22"
      ]
     },
     "execution_count": 25,
     "metadata": {},
     "output_type": "execute_result"
    }
   ],
   "source": [
    "model_test(X_train,X_test,y_train,y_test,models)"
   ]
  },
  {
   "cell_type": "code",
   "execution_count": 72,
   "id": "cc0d5329-5e40-4eda-ab24-d03cf76f5538",
   "metadata": {},
   "outputs": [
    {
     "name": "stdout",
     "output_type": "stream",
     "text": [
      "The mean_absolute_error of LinearRegression is: 5836499162.703476\n",
      "The root_mean_squared_error of LinearRegression is: 120222387855.16335\n",
      "The r2_score of LinearRegression is: -1.7776559438474733e+22\n",
      "-----------------------------------------------------------------\n",
      "The mean_absolute_error of DecisionTreeRegressor is: 0.2131549673061211\n",
      "The root_mean_squared_error of DecisionTreeRegressor is: 0.33683143919199593\n",
      "The r2_score of DecisionTreeRegressor is: 0.8604588647774938\n",
      "-----------------------------------------------------------------\n",
      "The mean_absolute_error of Ridge is: 0.19635098298259757\n",
      "The root_mean_squared_error of Ridge is: 0.31496648029629276\n",
      "The r2_score of Ridge is: 0.8779871182602517\n",
      "-----------------------------------------------------------------\n",
      "The mean_absolute_error of Lasso is: 0.7012380977517022\n",
      "The root_mean_squared_error of Lasso is: 0.9017007265184392\n",
      "The r2_score of Lasso is: -4.257858144729454e-06\n",
      "-----------------------------------------------------------------\n",
      "The mean_absolute_error of ElasticNet is: 0.6573345539295996\n",
      "The root_mean_squared_error of ElasticNet is: 0.845242872047673\n",
      "The r2_score of ElasticNet is: 0.12130117826696152\n",
      "-----------------------------------------------------------------\n",
      "The mean_absolute_error of RandomForestRegressor is: 0.1849612872406433\n",
      "The root_mean_squared_error of RandomForestRegressor is: 0.28034758569366\n",
      "The r2_score of RandomForestRegressor is: 0.9033346894009942\n",
      "-----------------------------------------------------------------\n"
     ]
    }
   ],
   "source": [
    "from sklearn.preprocessing import PowerTransformer,StandardScaler,OneHotEncoder,OrdinalEncoder\n",
    "from sklearn.model_selection import train_test_split,RandomizedSearchCV\n",
    "from sklearn.linear_model import LinearRegression,Lasso,Ridge,LogisticRegression,ElasticNet,Lasso\n",
    "from sklearn.tree import DecisionTreeRegressor\n",
    "from sklearn.compose import ColumnTransformer\n",
    "from sklearn.metrics import r2_score,mean_absolute_error,root_mean_squared_error\n",
    "from sklearn.ensemble import RandomForestRegressor,StackingRegressor\n",
    "\n",
    "\n",
    "\n",
    "# Models to evaluate\n",
    "models = [\n",
    "    LinearRegression(),\n",
    "    DecisionTreeRegressor(),\n",
    "    Ridge(),\n",
    "    Lasso(),\n",
    "    ElasticNet(),\n",
    "    RandomForestRegressor(),\n",
    "\n",
    "\n",
    "\n",
    "]\n",
    "\n",
    "# Metrics to evaluate\n",
    "accuracy_metrics = [mean_absolute_error, root_mean_squared_error, r2_score]\n",
    "\n",
    "\n",
    "for model in models:\n",
    "    model.fit(X_train, y_train)\n",
    "    y_pred = model.predict(X_test)\n",
    "\n",
    "    for metric in accuracy_metrics:\n",
    "        score = metric(y_test, y_pred)\n",
    "        result = {\"model\":model.__class__.__name__,\"metric\":metric.__name__,\"score\":score}\n",
    "        print(f'The {metric.__name__} of {model.__class__.__name__} is: {score}')\n",
    "    print('-----------------------------------------------------------------')\n",
    "        "
   ]
  },
  {
   "cell_type": "code",
   "execution_count": null,
   "id": "1b2bd857-1fe8-4dc0-b2b3-6c2fcde9a31e",
   "metadata": {},
   "outputs": [],
   "source": []
  },
  {
   "cell_type": "markdown",
   "id": "ee965669-59e0-41a7-a8cc-a609fb0a6c69",
   "metadata": {},
   "source": [
    "## Observation from the result:\n",
    "#### *Model Seletected (Decision Tree Regressor - Ridge Regressor - Random Forest Regresson)*"
   ]
  },
  {
   "cell_type": "markdown",
   "id": "10648ce8-db3d-451e-864e-6a8a4c0e9a3c",
   "metadata": {},
   "source": [
    "## *Hyper paramnet tuning*"
   ]
  },
  {
   "cell_type": "code",
   "execution_count": 73,
   "id": "88b577a3-18aa-4962-a67c-91cf5d64d1b9",
   "metadata": {},
   "outputs": [],
   "source": [
    "from sklearn.model_selection import GridSearchCV"
   ]
  },
  {
   "cell_type": "markdown",
   "id": "cac988b8-ea93-4412-a7bb-d96415b725d1",
   "metadata": {},
   "source": [
    "### * *Decision Tree Regressor*"
   ]
  },
  {
   "cell_type": "code",
   "execution_count": 76,
   "id": "3af5e6ef-84ec-41f5-87ce-4d852339e436",
   "metadata": {},
   "outputs": [
    {
     "name": "stdout",
     "output_type": "stream",
     "text": [
      "Best Parameters: {'criterion': 'absolute_error', 'max_depth': None, 'min_samples_leaf': 1, 'min_samples_split': 10}\n",
      "Best Score: 0.868164577219623\n"
     ]
    }
   ],
   "source": [
    "params_grid={\n",
    "    \"max_depth\":[1,2,3,5,10,15,20,None],\n",
    "    \"min_samples_split\":[1,2,5,10],\n",
    "    \"min_samples_leaf\":[1,2,3,5],\n",
    "    \"criterion\":[\"squared_error\",\"absolute_error\",\"poisson\",\"friedman_mse\"]\n",
    "}\n",
    "\n",
    "grid_search_dt=GridSearchCV(estimator=DecisionTreeRegressor(),param_grid=params_grid,cv=8)\n",
    "\n",
    "grid_search_dt.fit(X_train,y_train)\n",
    "\n",
    "print(\"Best Parameters:\",grid_search_dt.best_params_)\n",
    "print(\"Best Score:\",grid_search_dt.best_score_)"
   ]
  },
  {
   "cell_type": "markdown",
   "id": "7972b6e7-0107-4ea1-9213-a40ebb7d722b",
   "metadata": {},
   "source": [
    "### * *Ridge Regressor*"
   ]
  },
  {
   "cell_type": "code",
   "execution_count": 81,
   "id": "e86fe92c-5868-4eb7-ae58-ff3b2bda716c",
   "metadata": {},
   "outputs": [
    {
     "name": "stdout",
     "output_type": "stream",
     "text": [
      "Best alpha: 0.1\n",
      "Best R² score: 0.9263135545995613\n"
     ]
    }
   ],
   "source": [
    "params_grid={\n",
    "    'alpha': [0.01, 0.1, 1, 10, 100, 1000]\n",
    "}\n",
    "\n",
    "grid_search_rr=GridSearchCV(estimator=Ridge(),cv=8,param_grid=params_grid,scoring=\"r2\")\n",
    "\n",
    "grid_search_rr.fit(X_train,y_train)\n",
    "\n",
    "print(\"Best alpha:\", grid_search_rr.best_params_['alpha'])\n",
    "print(\"Best R² score:\", grid_search_rr.best_score_)"
   ]
  },
  {
   "cell_type": "markdown",
   "id": "ac63474b-f245-4b6e-af15-bc78ce92490f",
   "metadata": {},
   "source": [
    "### * *Random Forest Regressor*"
   ]
  },
  {
   "cell_type": "code",
   "execution_count": 84,
   "id": "a0d72645-90cc-43a7-9a0e-932e41681c21",
   "metadata": {},
   "outputs": [
    {
     "name": "stdout",
     "output_type": "stream",
     "text": [
      "Fitting 5 folds for each of 50 candidates, totalling 250 fits\n",
      "Best Parameters: {'n_estimators': 200, 'min_samples_split': 10, 'min_samples_leaf': 1, 'max_features': 'sqrt', 'max_depth': 40, 'bootstrap': False}\n",
      "Best R² Score: 0.916495451075779\n"
     ]
    }
   ],
   "source": [
    "from sklearn.model_selection import RandomizedSearchCV\n",
    "\n",
    "param_dist = {\n",
    "    'n_estimators': [100, 200, 300, 500, 800],\n",
    "    'max_depth': [None, 10, 20, 30, 40, 50],\n",
    "    'min_samples_split': [2, 5, 10],\n",
    "    'min_samples_leaf': [1, 2, 4],\n",
    "    'max_features': ['auto', 'sqrt', 'log2'],\n",
    "    'bootstrap': [True, False]\n",
    "}\n",
    "\n",
    "random_search = RandomizedSearchCV(estimator=RandomForestRegressor(random_state=42),param_distributions=param_dist,n_iter=50,cv=5,verbose=1,random_state=42,n_jobs=-1,scoring='r2')\n",
    "\n",
    "random_search.fit(X_train, y_train)\n",
    "\n",
    "print(\"Best Parameters:\", random_search.best_params_)\n",
    "print(\"Best R² Score:\", random_search.best_score_)"
   ]
  },
  {
   "cell_type": "code",
   "execution_count": null,
   "id": "b332e495-4834-4027-831d-1dfcb751e143",
   "metadata": {},
   "outputs": [],
   "source": []
  },
  {
   "cell_type": "code",
   "execution_count": null,
   "id": "c254dc81-74e3-4865-8015-872cbb873d30",
   "metadata": {},
   "outputs": [],
   "source": []
  },
  {
   "cell_type": "code",
   "execution_count": null,
   "id": "ecb54414-2ef3-4cb6-a272-15b4058f0227",
   "metadata": {},
   "outputs": [],
   "source": []
  },
  {
   "cell_type": "code",
   "execution_count": null,
   "id": "408c6545-7c9f-4584-af02-a70fdc775ed9",
   "metadata": {},
   "outputs": [],
   "source": []
  },
  {
   "cell_type": "code",
   "execution_count": null,
   "id": "33381358-fcfa-4fe9-82bc-399b68632d69",
   "metadata": {},
   "outputs": [],
   "source": []
  },
  {
   "cell_type": "code",
   "execution_count": null,
   "id": "724e974b-056a-4a31-b08f-6fb6770e2386",
   "metadata": {},
   "outputs": [],
   "source": []
  },
  {
   "cell_type": "code",
   "execution_count": null,
   "id": "adcabf6f-8cd2-48ab-bce3-d6a478d4d604",
   "metadata": {},
   "outputs": [],
   "source": []
  },
  {
   "cell_type": "code",
   "execution_count": null,
   "id": "350c5a05-3686-461e-a5dc-1325bb649ddd",
   "metadata": {},
   "outputs": [],
   "source": []
  },
  {
   "cell_type": "code",
   "execution_count": null,
   "id": "fc1753f6-d182-45f0-8b07-19b6cdde0ef3",
   "metadata": {},
   "outputs": [],
   "source": []
  },
  {
   "cell_type": "code",
   "execution_count": null,
   "id": "d762a270-9aae-4591-922e-143b917350a5",
   "metadata": {},
   "outputs": [],
   "source": []
  },
  {
   "cell_type": "markdown",
   "id": "9fc2ab01-5b9f-4f9f-8f53-cd3247e88a40",
   "metadata": {},
   "source": [
    "## CHANGES"
   ]
  },
  {
   "cell_type": "code",
   "execution_count": 26,
   "id": "caf6e8bf-2d47-4a55-8f37-0c0238368e46",
   "metadata": {},
   "outputs": [],
   "source": [
    "df=dataframe.copy()"
   ]
  },
  {
   "cell_type": "code",
   "execution_count": 27,
   "id": "f8e801bb-d267-4299-a332-1ec977690922",
   "metadata": {},
   "outputs": [],
   "source": [
    "df=df[df['propert_type']!=\"residential building\"]\n",
    "df['propert_type']=df['propert_type'].replace({\"villa compound\":\"villa\"})\n",
    "df=df[df['area(sqft)']!=13149888.0]\n",
    "\n",
    "\n",
    "\n"
   ]
  },
  {
   "cell_type": "code",
   "execution_count": 28,
   "id": "b743a53b-c4f6-4edf-b4f7-935caadc4e46",
   "metadata": {},
   "outputs": [],
   "source": [
    "df['address']=df['address'].str.replace(\" \",\"\")\n",
    "vc_address=dict(df['address'].value_counts())\n",
    "def rearrange_address(address):\n",
    "    global vc_address\n",
    "\n",
    "    result=vc_address.get(address)\n",
    "    if result <=5:\n",
    "        address =\"others\"\n",
    "    else :\n",
    "        pass\n",
    "    return address\n",
    "\n",
    "df['address']=df['address'].apply(rearrange_address)"
   ]
  },
  {
   "cell_type": "code",
   "execution_count": 29,
   "id": "663b84df-86f7-4dee-bd07-7552c4fe1e61",
   "metadata": {},
   "outputs": [],
   "source": [
    "project_maping=df['project_name'].value_counts()\n",
    "df['project_name']=df['project_name'].map(project_maping)"
   ]
  },
  {
   "cell_type": "code",
   "execution_count": 30,
   "id": "a249b236-0c30-4aa9-9fc8-45d2546d1b00",
   "metadata": {},
   "outputs": [
    {
     "data": {
      "text/html": [
       "<div>\n",
       "<style scoped>\n",
       "    .dataframe tbody tr th:only-of-type {\n",
       "        vertical-align: middle;\n",
       "    }\n",
       "\n",
       "    .dataframe tbody tr th {\n",
       "        vertical-align: top;\n",
       "    }\n",
       "\n",
       "    .dataframe thead th {\n",
       "        text-align: right;\n",
       "    }\n",
       "</style>\n",
       "<table border=\"1\" class=\"dataframe\">\n",
       "  <thead>\n",
       "    <tr style=\"text-align: right;\">\n",
       "      <th></th>\n",
       "      <th>price</th>\n",
       "      <th>bedroom</th>\n",
       "      <th>bathroom</th>\n",
       "      <th>area(sqft)</th>\n",
       "      <th>address</th>\n",
       "      <th>propert_type</th>\n",
       "      <th>furnishing</th>\n",
       "      <th>completion_status</th>\n",
       "      <th>handover</th>\n",
       "      <th>project_name</th>\n",
       "    </tr>\n",
       "  </thead>\n",
       "  <tbody>\n",
       "    <tr>\n",
       "      <th>0</th>\n",
       "      <td>1800000</td>\n",
       "      <td>3.0</td>\n",
       "      <td>4</td>\n",
       "      <td>1208.0</td>\n",
       "      <td>DAMACHills2(AkoyabyDAMAC)</td>\n",
       "      <td>Townhouse</td>\n",
       "      <td>0</td>\n",
       "      <td>0</td>\n",
       "      <td>2025.25</td>\n",
       "      <td>203</td>\n",
       "    </tr>\n",
       "    <tr>\n",
       "      <th>1</th>\n",
       "      <td>325000</td>\n",
       "      <td>0.5</td>\n",
       "      <td>1</td>\n",
       "      <td>483.0</td>\n",
       "      <td>InternationalCity</td>\n",
       "      <td>Apartment</td>\n",
       "      <td>0</td>\n",
       "      <td>1</td>\n",
       "      <td>2025.25</td>\n",
       "      <td>203</td>\n",
       "    </tr>\n",
       "    <tr>\n",
       "      <th>2</th>\n",
       "      <td>470000</td>\n",
       "      <td>0.5</td>\n",
       "      <td>1</td>\n",
       "      <td>428.0</td>\n",
       "      <td>Arjan</td>\n",
       "      <td>Apartment</td>\n",
       "      <td>1</td>\n",
       "      <td>1</td>\n",
       "      <td>2025.25</td>\n",
       "      <td>203</td>\n",
       "    </tr>\n",
       "    <tr>\n",
       "      <th>3</th>\n",
       "      <td>1120000</td>\n",
       "      <td>1.0</td>\n",
       "      <td>1</td>\n",
       "      <td>706.0</td>\n",
       "      <td>DubaiSouth</td>\n",
       "      <td>Apartment</td>\n",
       "      <td>0</td>\n",
       "      <td>0</td>\n",
       "      <td>2029.50</td>\n",
       "      <td>203</td>\n",
       "    </tr>\n",
       "    <tr>\n",
       "      <th>4</th>\n",
       "      <td>2127888</td>\n",
       "      <td>2.0</td>\n",
       "      <td>2</td>\n",
       "      <td>1149.0</td>\n",
       "      <td>DubaiSouth</td>\n",
       "      <td>Apartment</td>\n",
       "      <td>0</td>\n",
       "      <td>0</td>\n",
       "      <td>2029.50</td>\n",
       "      <td>203</td>\n",
       "    </tr>\n",
       "  </tbody>\n",
       "</table>\n",
       "</div>"
      ],
      "text/plain": [
       "     price  bedroom  bathroom  area(sqft)                    address  \\\n",
       "0  1800000      3.0         4      1208.0  DAMACHills2(AkoyabyDAMAC)   \n",
       "1   325000      0.5         1       483.0          InternationalCity   \n",
       "2   470000      0.5         1       428.0                      Arjan   \n",
       "3  1120000      1.0         1       706.0                 DubaiSouth   \n",
       "4  2127888      2.0         2      1149.0                 DubaiSouth   \n",
       "\n",
       "  propert_type  furnishing  completion_status  handover  project_name  \n",
       "0    Townhouse           0                  0   2025.25           203  \n",
       "1    Apartment           0                  1   2025.25           203  \n",
       "2    Apartment           1                  1   2025.25           203  \n",
       "3    Apartment           0                  0   2029.50           203  \n",
       "4    Apartment           0                  0   2029.50           203  "
      ]
     },
     "execution_count": 30,
     "metadata": {},
     "output_type": "execute_result"
    }
   ],
   "source": [
    "df.head()"
   ]
  },
  {
   "cell_type": "code",
   "execution_count": 31,
   "id": "f6846532-149a-44bd-9520-1085a6b2fb08",
   "metadata": {},
   "outputs": [],
   "source": [
    "df['area(sqft)']=np.log(df['area(sqft)']+1)\n",
    "df['price']=np.log(df['price']+1)"
   ]
  },
  {
   "cell_type": "code",
   "execution_count": 32,
   "id": "5bb22bcc-a448-492c-ab76-7853dd568190",
   "metadata": {},
   "outputs": [],
   "source": [
    "from sklearn.model_selection import train_test_split\n",
    "from sklearn.preprocessing import OneHotEncoder\n",
    "\n",
    "y1=df[\"price\"]\n",
    "X1=df.drop(columns=\"price\")\n",
    "\n",
    "#spliting the dataset\n",
    "X_train1, X_test1, y_train1, y_test1 = train_test_split(\n",
    "    X1, y1, test_size=0.33, random_state=42)"
   ]
  },
  {
   "cell_type": "code",
   "execution_count": 33,
   "id": "de267ae4-11a0-4a93-9055-c1d4edd3b389",
   "metadata": {},
   "outputs": [],
   "source": [
    "from sklearn.compose import ColumnTransformer\n",
    "from sklearn.preprocessing import MinMaxScaler\n",
    "\n",
    "\n",
    "ct=ColumnTransformer([\n",
    "    (\"OHE\",OneHotEncoder(sparse_output=True,handle_unknown=\"ignore\"),[\"address\",\"propert_type\"]),\n",
    "    (\"minmax_scaler\",MinMaxScaler(feature_range=(0,1)),[\"bedroom\",\"bathroom\",\"handover\",\"project_name\"])\n",
    "],\n",
    "                     remainder=\"passthrough\")\n",
    "\n",
    "ct.fit(X_train1)\n",
    "\n",
    "X_train1=ct.transform(X_train1)\n",
    "X_test1=ct.transform(X_test1)\n",
    "\n",
    "X_train1=X_train1.toarray()\n",
    "X_test1=X_test1.toarray()\n"
   ]
  },
  {
   "cell_type": "code",
   "execution_count": 34,
   "id": "5b18dd36-28ea-4b52-8f80-aef0a00b78e4",
   "metadata": {},
   "outputs": [
    {
     "name": "stdout",
     "output_type": "stream",
     "text": [
      "r2score: 0.9090549061742248, mse: 0.07503147263190692 , mae: 0.19746849792290078\n"
     ]
    }
   ],
   "source": [
    "from sklearn.linear_model import LinearRegression\n",
    "lr1=LinearRegression()\n",
    "\n",
    "lr1.fit(X_train1,y_train1)\n",
    "\n",
    "y_pred1=lr1.predict(X_test1)\n",
    "\n",
    "from sklearn.metrics import r2_score ,mean_absolute_error,mean_squared_error\n",
    "acc11=r2_score(y_test1,y_pred1)\n",
    "mse11=mean_squared_error(y_test1,y_pred1)\n",
    "mae11=mean_absolute_error(y_test1,y_pred1)\n",
    "\n",
    "print(f\"r2score: {acc11}, mse: {mse11} , mae: {mae11}\")"
   ]
  },
  {
   "cell_type": "code",
   "execution_count": null,
   "id": "d58750f5-b83a-4194-8258-1df3d434bf04",
   "metadata": {},
   "outputs": [],
   "source": []
  },
  {
   "cell_type": "code",
   "execution_count": null,
   "id": "3cf65fa3-72db-44a4-b341-14981301d2f7",
   "metadata": {},
   "outputs": [],
   "source": []
  }
 ],
 "metadata": {
  "kernelspec": {
   "display_name": "Python 3 (ipykernel)",
   "language": "python",
   "name": "python3"
  },
  "language_info": {
   "codemirror_mode": {
    "name": "ipython",
    "version": 3
   },
   "file_extension": ".py",
   "mimetype": "text/x-python",
   "name": "python",
   "nbconvert_exporter": "python",
   "pygments_lexer": "ipython3",
   "version": "3.12.6"
  }
 },
 "nbformat": 4,
 "nbformat_minor": 5
}
