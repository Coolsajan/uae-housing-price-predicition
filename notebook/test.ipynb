{
 "cells": [
  {
   "cell_type": "code",
   "execution_count": 1,
   "id": "3eaa24b9",
   "metadata": {},
   "outputs": [],
   "source": [
    "##lets code"
   ]
  },
  {
   "cell_type": "code",
   "execution_count": null,
   "id": "845ebba4",
   "metadata": {},
   "outputs": [],
   "source": [
    "from sklearn.linear_model import LinearRegression,Lasso"
   ]
  },
  {
   "cell_type": "code",
   "execution_count": null,
   "id": "48eccad2",
   "metadata": {},
   "outputs": [],
   "source": [
    "models={\n",
    "    LinearRegression():{}\n",
    "}"
   ]
  },
  {
   "cell_type": "code",
   "execution_count": 2,
   "id": "928c8a0a",
   "metadata": {},
   "outputs": [],
   "source": [
    "from sklearn.linear_model import LinearRegression,Ridge ,Lasso\n",
    "from sklearn.svm import SVR\n",
    "from sklearn.ensemble import RandomForestRegressor,GradientBoostingRegressor"
   ]
  },
  {
   "cell_type": "code",
   "execution_count": null,
   "id": "2abce76e",
   "metadata": {},
   "outputs": [],
   "source": [
    "models={\n",
    "                \"Linear Regression\" : LinearRegression(),\n",
    "                \"Lasso\" : Lasso(),\n",
    "                \"Ridge\" : Ridge(),\n",
    "                \"SVR\" : SVR(),\n",
    "                \"Random Forest Regressor\" : RandomForestRegressor(),\n",
    "                \"Gradian Boosting Regressor\" : GradientBoostingRegressor()\n",
    "            }\n",
    "\n",
    "parms={\n",
    "    \"Linear Regression\"={\n",
    "        \n",
    "    }\n",
    "}"
   ]
  },
  {
   "cell_type": "code",
   "execution_count": 3,
   "id": "3b245f58",
   "metadata": {},
   "outputs": [],
   "source": [
    "import numpy as np"
   ]
  },
  {
   "cell_type": "code",
   "execution_count": null,
   "id": "3927e778",
   "metadata": {},
   "outputs": [],
   "source": []
  }
 ],
 "metadata": {
  "kernelspec": {
   "display_name": "housing",
   "language": "python",
   "name": "python3"
  },
  "language_info": {
   "codemirror_mode": {
    "name": "ipython",
    "version": 3
   },
   "file_extension": ".py",
   "mimetype": "text/x-python",
   "name": "python",
   "nbconvert_exporter": "python",
   "pygments_lexer": "ipython3",
   "version": "3.11.9"
  }
 },
 "nbformat": 4,
 "nbformat_minor": 5
}
